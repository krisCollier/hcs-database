{
 "cells": [
  {
   "cell_type": "code",
   "execution_count": 1,
   "metadata": {},
   "outputs": [
    {
     "name": "stderr",
     "output_type": "stream",
     "text": [
      "C:\\Users\\thera\\AppData\\Local\\Temp\\ipykernel_20540\\4236874690.py:2: DeprecationWarning: \n",
      "Pyarrow will become a required dependency of pandas in the next major release of pandas (pandas 3.0),\n",
      "(to allow more performant data types, such as the Arrow string type, and better interoperability with other libraries)\n",
      "but was not found to be installed on your system.\n",
      "If this would cause problems for you,\n",
      "please provide us feedback at https://github.com/pandas-dev/pandas/issues/54466\n",
      "        \n",
      "  import pandas as pd\n"
     ]
    }
   ],
   "source": [
    "import requests\n",
    "import pandas as pd\n",
    "import get_leaf_data as leaf"
   ]
  },
  {
   "cell_type": "code",
   "execution_count": 2,
   "metadata": {},
   "outputs": [],
   "source": [
    "INDICES_TO_REMOVE = [0, 1, 2, 4, 7, 8, 9, 10, 11, 12, 27, 28, 33, 35, 36]\n",
    "\n",
    "# url = 'https://leafapp.co/game/4efd5cf2-a046-499d-8c64-c043a421e778'\n",
    "# data = pd.read_csv(f'{url}/csv')\n",
    "\n",
    "# page = requests.get(url)\n",
    "# score = leaf.GetMatchScoreFromMatchReq(page).split(',')\n",
    "# # Assign TeamGameScore based on TeamOutcome\n",
    "# data['TeamGameScore'] = data.apply(lambda row: max(score[0], score[1]) if row['TeamOutcome'] == 'Win' else min(score[0], score[1]), axis=1)\n",
    "\n",
    "# columns_to_remove = [data.columns[i] for i in indices_to_remove]\n",
    "# data.drop(columns=columns_to_remove, axis=1, inplace=True)\n"
   ]
  },
  {
   "cell_type": "code",
   "execution_count": 3,
   "metadata": {},
   "outputs": [],
   "source": [
    "def get_and_process_stats(url):\n",
    "    data = pd.read_csv(f'{url}/csv')\n",
    "    page = requests.get(url)\n",
    "    score = leaf.GetMatchScoreFromMatchReq(page).split(',')\n",
    "\n",
    "    # Assign TeamGameScore based on TeamOutcome\n",
    "    data['TeamGameScore'] = data.apply(lambda row: max(score[0], score[1]) if row['TeamOutcome'] == 'Win' else min(score[0], score[1]), axis=1)\n",
    "\n",
    "    columns_to_remove = [data.columns[i] for i in INDICES_TO_REMOVE]\n",
    "    data.drop(columns=columns_to_remove, axis=1, inplace=True)\n",
    "\n",
    "    return data"
   ]
  },
  {
   "cell_type": "code",
   "execution_count": 4,
   "metadata": {},
   "outputs": [
    {
     "name": "stdout",
     "output_type": "stream",
     "text": [
      "Processing 28 of 28"
     ]
    }
   ],
   "source": [
    "team = 'brum'\n",
    "team_stats_list = pd.read_csv(f\"{team} list.csv\")\n",
    "file_path = f'{team}_stats.csv'\n",
    "\n",
    "for i, link in enumerate(team_stats_list['link']):\n",
    "    print(f'\\rProcessing {i+1} of {len(team_stats_list)}', end='', flush=True)\n",
    "    df = get_and_process_stats(link)\n",
    "\n",
    "    if i == 0:\n",
    "        df.to_csv(file_path, mode='w', index=False, header=True)\n",
    "    else:\n",
    "        df.to_csv(file_path, mode='a', index=False, header=False)\n",
    "\n",
    "    with open(file_path, 'a') as file:\n",
    "        file.write('\\n')\n",
    "\n"
   ]
  }
 ],
 "metadata": {
  "kernelspec": {
   "display_name": "Python 3",
   "language": "python",
   "name": "python3"
  },
  "language_info": {
   "codemirror_mode": {
    "name": "ipython",
    "version": 3
   },
   "file_extension": ".py",
   "mimetype": "text/x-python",
   "name": "python",
   "nbconvert_exporter": "python",
   "pygments_lexer": "ipython3",
   "version": "3.9.2"
  }
 },
 "nbformat": 4,
 "nbformat_minor": 2
}
